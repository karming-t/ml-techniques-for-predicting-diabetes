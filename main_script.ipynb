{
 "cells": [
  {
   "cell_type": "markdown",
   "metadata": {},
   "source": [
    "## Compilation of Imports"
   ]
  },
  {
   "cell_type": "code",
   "execution_count": 2,
   "metadata": {},
   "outputs": [],
   "source": [
    "import pandas as pd\n",
    "import numpy as np\n",
    "from itertools import combinations\n",
    "\n",
    "import matplotlib.pyplot as plt\n",
    "import seaborn as sns\n",
    "\n",
    "from sklearn.preprocessing import OneHotEncoder, StandardScaler\n",
    "from sklearn.model_selection import train_test_split, GridSearchCV, KFold, cross_validate, cross_val_predict\n",
    "from sklearn.feature_selection import RFECV\n",
    "from imblearn.over_sampling import ADASYN, SMOTE\n",
    "from sklearn.ensemble import RandomForestClassifier, StackingClassifier, BaggingClassifier, AdaBoostClassifier, GradientBoostingClassifier\n",
    "from sklearn.svm import SVC\n",
    "from sklearn.naive_bayes import GaussianNB, MultinomialNB\n",
    "from sklearn.tree import DecisionTreeClassifier\n",
    "from sklearn.neighbors import KNeighborsClassifier\n",
    "from sklearn.linear_model import LogisticRegression\n",
    "from xgboost import XGBClassifier\n",
    "from sklearn.metrics import accuracy_score, classification_report, confusion_matrix, ConfusionMatrixDisplay"
   ]
  },
  {
   "cell_type": "code",
   "execution_count": 3,
   "metadata": {},
   "outputs": [],
   "source": [
    "df = pd.read_excel(\"./static/resolved_nan.xlsx\")"
   ]
  },
  {
   "cell_type": "code",
   "execution_count": 4,
   "metadata": {},
   "outputs": [],
   "source": [
    "x = df.drop([\"diagnosed_diabetes\"], axis=1)\n",
    "y = df[\"diagnosed_diabetes\"]"
   ]
  },
  {
   "cell_type": "markdown",
   "metadata": {},
   "source": [
    "## Train Test Split"
   ]
  },
  {
   "cell_type": "code",
   "execution_count": 6,
   "metadata": {},
   "outputs": [],
   "source": [
    "x_train, x_test, y_train, y_test = train_test_split(\n",
    "    x, \n",
    "    y, \n",
    "    test_size=0.3,\n",
    "    train_size= 0.7,\n",
    "    random_state=0\n",
    "    )"
   ]
  },
  {
   "cell_type": "code",
   "execution_count": 7,
   "metadata": {},
   "outputs": [
    {
     "name": "stdout",
     "output_type": "stream",
     "text": [
      "(178321, 15)\n",
      "(76424, 15)\n"
     ]
    }
   ],
   "source": [
    "print(x_train.shape)\n",
    "print(x_test.shape)"
   ]
  },
  {
   "cell_type": "code",
   "execution_count": 8,
   "metadata": {},
   "outputs": [],
   "source": [
    "x_train_encoded = x_train.copy()\n",
    "x_test_encoded = x_test.copy()\n",
    "x_base_encoded = x.copy()\n",
    "y_base = y.copy()"
   ]
  },
  {
   "cell_type": "markdown",
   "metadata": {},
   "source": [
    "## Label Encoding for Ordinal Data"
   ]
  },
  {
   "cell_type": "code",
   "execution_count": 9,
   "metadata": {},
   "outputs": [],
   "source": [
    "ordinal_columns = [\n",
    "    'age_grp', \n",
    "    'bmi_grp', \n",
    "    'education', \n",
    "    'income_grp', \n",
    "    'gen_health', \n",
    "    'phy_activeness', \n",
    "    'smoke'\n",
    "]\n",
    "\n",
    "# Define predefined mappings for each ordinal column\n",
    "predefined_mappings = {\n",
    "    'age_grp': {1:0, 2:1, 3:2, 4:3, 5:4, 6:5, 7:6, 8:7, 9:8, 10:9, 11:10, 12:11, 13:12},\n",
    "    'bmi_grp': {1:0, 2:1, 3:2, 4:3},\n",
    "    'education': {1:0, 2:1, 3:2, 4:3},\n",
    "    'income_grp': {1:0, 2:1, 3:2, 4:3, 5:4},\n",
    "    'gen_health': {1:0, 2:1},\n",
    "    'phy_activeness': {1:0, 2:1, 3:2, 4:3},\n",
    "    'smoke': {1:0, 2:1, 3:2, 4:3}\n",
    "}\n",
    "\n",
    "# Apply predefined mapping to training and test datasets\n",
    "for col in ordinal_columns:\n",
    "    # Get the predefined mapping for the column\n",
    "    mapping = predefined_mappings[col]\n",
    "    \n",
    "    # Map the training data using the predefined mapping\n",
    "    x_train_encoded[col] = x_train_encoded[col].map(mapping)\n",
    "    x_test_encoded[col] = x_test_encoded[col].map(mapping)\n",
    "    x_base_encoded[col] = x_base_encoded[col].map(mapping)\n",
    "    \n",
    "    # Check for unseen categories\n",
    "    unseen_classes = set(x_test_encoded[col][x_test_encoded[col].isnull()].index)\n",
    "    if unseen_classes:\n",
    "        print(f\"Unseen classes in column '{col}': {unseen_classes}\")"
   ]
  },
  {
   "cell_type": "markdown",
   "metadata": {},
   "source": [
    "## One Hot Encoding for Nominal Data"
   ]
  },
  {
   "cell_type": "code",
   "execution_count": 10,
   "metadata": {},
   "outputs": [
    {
     "name": "stdout",
     "output_type": "stream",
     "text": [
      "Encoded Training Data:\n",
      "        age_grp  bmi_grp  education  income_grp  gen_health  phy_activeness  \\\n",
      "222463        6        1          3           2           0               0   \n",
      "213767        3        3          2           4           0               2   \n",
      "167511        6        1          3           4           0               0   \n",
      "33510         7        1          2           4           0               3   \n",
      "197060        5        2          2           4           0               3   \n",
      "\n",
      "        smoke  sex_Male  sex_Female  race_cat_White only, non-Hispanic  ...  \\\n",
      "222463      3       0.0         1.0                                1.0  ...   \n",
      "213767      3       1.0         0.0                                0.0  ...   \n",
      "167511      2       0.0         1.0                                1.0  ...   \n",
      "33510       2       1.0         0.0                                1.0  ...   \n",
      "197060      3       1.0         0.0                                1.0  ...   \n",
      "\n",
      "        high_bp_No  high_bp_Yes  high_chol_No  high_chol_Yes  stroke_Yes  \\\n",
      "222463         1.0          0.0           1.0            0.0         0.0   \n",
      "213767         1.0          0.0           1.0            0.0         0.0   \n",
      "167511         1.0          0.0           1.0            0.0         0.0   \n",
      "33510          1.0          0.0           1.0            0.0         0.0   \n",
      "197060         1.0          0.0           1.0            0.0         0.0   \n",
      "\n",
      "        stroke_No  heart_disease_attack_Yes  heart_disease_attack_No  \\\n",
      "222463        1.0                       0.0                      1.0   \n",
      "213767        1.0                       0.0                      1.0   \n",
      "167511        1.0                       0.0                      1.0   \n",
      "33510         1.0                       0.0                      1.0   \n",
      "197060        1.0                       0.0                      1.0   \n",
      "\n",
      "        kidney_disease_Yes  kidney_disease_No  \n",
      "222463                 0.0                1.0  \n",
      "213767                 0.0                1.0  \n",
      "167511                 0.0                1.0  \n",
      "33510                  0.0                1.0  \n",
      "197060                 0.0                1.0  \n",
      "\n",
      "[5 rows x 29 columns]\n",
      "\n",
      "Encoded Test Data:\n",
      "        age_grp  bmi_grp  education  income_grp  gen_health  phy_activeness  \\\n",
      "139355        1        1          2           4           0               0   \n",
      "20924        12        1          3           3           1               0   \n",
      "83352         8        1          1           1           0               3   \n",
      "165494        5        0          3           4           0               0   \n",
      "202099        0        3          2           2           0               1   \n",
      "\n",
      "        smoke  sex_Male  sex_Female  race_cat_White only, non-Hispanic  ...  \\\n",
      "139355      3       1.0         0.0                                1.0  ...   \n",
      "20924       2       1.0         0.0                                1.0  ...   \n",
      "83352       2       0.0         1.0                                1.0  ...   \n",
      "165494      3       0.0         1.0                                1.0  ...   \n",
      "202099      2       0.0         1.0                                0.0  ...   \n",
      "\n",
      "        high_bp_No  high_bp_Yes  high_chol_No  high_chol_Yes  stroke_Yes  \\\n",
      "139355         1.0          0.0           1.0            0.0         0.0   \n",
      "20924          0.0          1.0           0.0            1.0         0.0   \n",
      "83352          1.0          0.0           0.0            1.0         0.0   \n",
      "165494         1.0          0.0           1.0            0.0         0.0   \n",
      "202099         1.0          0.0           1.0            0.0         0.0   \n",
      "\n",
      "        stroke_No  heart_disease_attack_Yes  heart_disease_attack_No  \\\n",
      "139355        1.0                       0.0                      1.0   \n",
      "20924         1.0                       0.0                      1.0   \n",
      "83352         1.0                       0.0                      1.0   \n",
      "165494        1.0                       0.0                      1.0   \n",
      "202099        1.0                       0.0                      1.0   \n",
      "\n",
      "        kidney_disease_Yes  kidney_disease_No  \n",
      "139355                 0.0                1.0  \n",
      "20924                  1.0                0.0  \n",
      "83352                  0.0                1.0  \n",
      "165494                 0.0                1.0  \n",
      "202099                 0.0                1.0  \n",
      "\n",
      "[5 rows x 29 columns]\n",
      "\n",
      "Encoded Base Data:\n",
      "   age_grp  bmi_grp  education  income_grp  gen_health  phy_activeness  smoke  \\\n",
      "0        8        3          1           1           1               3      2   \n",
      "1        6        2          3           0           0               1      0   \n",
      "2        8        2          1           4           1               3      3   \n",
      "3       10        2          0           3           0               0      3   \n",
      "4       10        1          2           1           0               0      3   \n",
      "\n",
      "   sex_Male  sex_Female  race_cat_White only, non-Hispanic  ...  high_bp_No  \\\n",
      "0       0.0         1.0                                1.0  ...         0.0   \n",
      "1       0.0         1.0                                1.0  ...         1.0   \n",
      "2       0.0         1.0                                1.0  ...         0.0   \n",
      "3       0.0         1.0                                1.0  ...         0.0   \n",
      "4       0.0         1.0                                0.0  ...         0.0   \n",
      "\n",
      "   high_bp_Yes  high_chol_No  high_chol_Yes  stroke_Yes  stroke_No  \\\n",
      "0          1.0           0.0            1.0         0.0        1.0   \n",
      "1          0.0           1.0            0.0         0.0        1.0   \n",
      "2          1.0           0.0            1.0         0.0        1.0   \n",
      "3          1.0           1.0            0.0         0.0        1.0   \n",
      "4          1.0           0.0            1.0         0.0        1.0   \n",
      "\n",
      "   heart_disease_attack_Yes  heart_disease_attack_No  kidney_disease_Yes  \\\n",
      "0                       0.0                      1.0                 0.0   \n",
      "1                       0.0                      1.0                 0.0   \n",
      "2                       0.0                      1.0                 0.0   \n",
      "3                       0.0                      1.0                 0.0   \n",
      "4                       0.0                      1.0                 0.0   \n",
      "\n",
      "   kidney_disease_No  \n",
      "0                1.0  \n",
      "1                1.0  \n",
      "2                1.0  \n",
      "3                1.0  \n",
      "4                1.0  \n",
      "\n",
      "[5 rows x 29 columns]\n"
     ]
    }
   ],
   "source": [
    "sex_mapping = {\n",
    "    1: 'Male', \n",
    "    2: 'Female'\n",
    "}\n",
    "race_cat_mapping = {\n",
    "    1: 'White only, non-Hispanic',\n",
    "    2: 'Black only, non-Hispanic',\n",
    "    3: 'American Indian or Alaskan Native only, Non-Hispanic',\n",
    "    4: 'Asian only, non-Hispanic',\n",
    "    5: 'Native Hawaiian or other Pacific Islander only, Non-Hispanic',\n",
    "    6: 'Other race only, non-Hispanic',\n",
    "    7: 'Multiracial, non-Hispanic',\n",
    "    8: 'Hispanic'\n",
    "} \n",
    "drink_mapping = {\n",
    "    1: 'No',\n",
    "    2: 'Yes'\n",
    "}\n",
    "high_bp_mapping = {\n",
    "    1: 'No',\n",
    "    2: 'Yes'\n",
    "}\n",
    "high_chol_mapping = {\n",
    "    1: 'No',\n",
    "    2: 'Yes'\n",
    "}\n",
    "stroke_mapping = {\n",
    "    1: 'Yes',\n",
    "    2: 'No'\n",
    "}\n",
    "heart_disease_attack_mapping = {\n",
    "    1: 'Yes',\n",
    "    2: 'No'\n",
    "}\n",
    "kidney_disease_mapping = {\n",
    "    1: 'Yes',\n",
    "    2: 'No'\n",
    "}\n",
    "\n",
    "nominal_columns = [\n",
    "    'sex', \n",
    "    'race_cat', \n",
    "    'drink', \n",
    "    'high_bp', \n",
    "    'high_chol', \n",
    "    'stroke', \n",
    "    'heart_disease_attack', \n",
    "    'kidney_disease',\n",
    "]\n",
    "\n",
    "# Initialize the OneHotEncoder\n",
    "one_hot_encoder = OneHotEncoder(sparse_output=False)\n",
    "\n",
    "# Fit on training data and transform both training and test data\n",
    "one_hot_encoded_train_data = one_hot_encoder.fit_transform(x_train_encoded[nominal_columns])\n",
    "one_hot_encoded_test_data = one_hot_encoder.transform(x_test_encoded[nominal_columns])\n",
    "one_hot_encoded_base_data = one_hot_encoder.transform(x_base_encoded[nominal_columns])\n",
    "\n",
    "# Generate feature names based on the original mappings\n",
    "columns = []\n",
    "for feature, categories in zip(nominal_columns, one_hot_encoder.categories_):\n",
    "    if feature == 'sex':\n",
    "        columns.extend([f\"{feature}_{sex_mapping[int(cat)]}\" for cat in categories])\n",
    "    elif feature == 'race_cat':\n",
    "        columns.extend([f\"{feature}_{race_cat_mapping[int(cat)]}\" for cat in categories])\n",
    "    elif feature == 'drink':\n",
    "        columns.extend([f\"{feature}_{drink_mapping[int(cat)]}\" for cat in categories])\n",
    "    elif feature == 'high_bp':\n",
    "        columns.extend([f\"{feature}_{high_bp_mapping[int(cat)]}\" for cat in categories])\n",
    "    elif feature == 'high_chol':\n",
    "        columns.extend([f\"{feature}_{high_chol_mapping[int(cat)]}\" for cat in categories])\n",
    "    elif feature == 'stroke':\n",
    "        columns.extend([f\"{feature}_{stroke_mapping[int(cat)]}\" for cat in categories])\n",
    "    elif feature == 'heart_disease_attack':\n",
    "        columns.extend([f\"{feature}_{heart_disease_attack_mapping[int(cat)]}\" for cat in categories])\n",
    "    elif feature == 'kidney_disease':\n",
    "        columns.extend([f\"{feature}_{kidney_disease_mapping[int(cat)]}\" for cat in categories])\n",
    "\n",
    "# Convert one-hot encoded data to DataFrame for both training and test sets\n",
    "one_hot_encoded_train_df = pd.DataFrame(one_hot_encoded_train_data, columns=columns, index=x_train_encoded.index)\n",
    "one_hot_encoded_test_df = pd.DataFrame(one_hot_encoded_test_data, columns=columns, index=x_test_encoded.index)\n",
    "one_hot_encoded_base_df = pd.DataFrame(one_hot_encoded_base_data, columns=columns, index=x_base_encoded.index)\n",
    "\n",
    "# Concatenate the ordinal columns with the one-hot encoded columns for both datasets\n",
    "x_train_encoded = pd.concat([x_train_encoded[ordinal_columns], one_hot_encoded_train_df], axis=1)\n",
    "x_test_encoded = pd.concat([x_test_encoded[ordinal_columns], one_hot_encoded_test_df], axis=1)\n",
    "x_base_encoded = pd.concat([x_base_encoded[ordinal_columns], one_hot_encoded_base_df], axis=1)\n",
    "\n",
    "# Display the first few rows of the encoded training and test data\n",
    "print(\"Encoded Training Data:\")\n",
    "print(x_train_encoded.head())\n",
    "\n",
    "print(\"\\nEncoded Test Data:\")\n",
    "print(x_test_encoded.head())\n",
    "\n",
    "print(\"\\nEncoded Base Data:\")\n",
    "print(x_base_encoded.head())\n"
   ]
  },
  {
   "cell_type": "markdown",
   "metadata": {},
   "source": [
    "## Feature Selection using Recursive Feature Elimination with Cross-Validation (RFECV)"
   ]
  },
  {
   "cell_type": "code",
   "execution_count": 12,
   "metadata": {},
   "outputs": [
    {
     "name": "stdout",
     "output_type": "stream",
     "text": [
      "Optimal number of features:  5\n"
     ]
    }
   ],
   "source": [
    "# model to evaluate feature importance\n",
    "estimator_model = RandomForestClassifier(random_state=42)\n",
    "\n",
    "# initialization of RFECV\n",
    "rfecv = RFECV(\n",
    "    estimator=estimator_model, \n",
    "    step=1, \n",
    "    cv=5, \n",
    "    scoring='accuracy', \n",
    "    n_jobs=-1\n",
    ")\n",
    "\n",
    "rfecv.fit(x_base_encoded, y_base)\n",
    "\n",
    "print('Optimal number of features: ', rfecv.n_features_)"
   ]
  },
  {
   "cell_type": "code",
   "execution_count": 13,
   "metadata": {},
   "outputs": [
    {
     "name": "stdout",
     "output_type": "stream",
     "text": [
      "Selected Features:  ['age_grp', 'bmi_grp', 'income_grp', 'gen_health', 'high_bp_No']\n"
     ]
    }
   ],
   "source": [
    "selected_features = x_base_encoded.columns[rfecv.support_]\n",
    "print(\"Selected Features: \", list(selected_features))"
   ]
  },
  {
   "cell_type": "code",
   "execution_count": 14,
   "metadata": {},
   "outputs": [
    {
     "data": {
      "image/png": "[encoded data removed]",
      "text/plain": [
       "<Figure size 640x480 with 1 Axes>"
      ]
     },
     "metadata": {},
     "output_type": "display_data"
    }
   ],
   "source": [
    "plt.figure()\n",
    "plt.xlabel(\"Number of Features Selected\")\n",
    "plt.ylabel(\"Cross-Validation Score (Accuracy)\")\n",
    "plt.plot(range(1, len(rfecv.cv_results_['mean_test_score'])+1), rfecv.cv_results_['mean_test_score'])\n",
    "plt.show()"
   ]
  },
  {
   "cell_type": "code",
   "execution_count": 15,
   "metadata": {},
   "outputs": [],
   "source": [
    "x_train_featured_encoded = x_train_encoded[['age_grp', 'bmi_grp', 'income_grp', 'gen_health', 'high_bp_No']]\n",
    "x_test_featured_encoded = x_test_encoded[['age_grp', 'bmi_grp', 'income_grp', 'gen_health', 'high_bp_No']]\n",
    "x_base_featured_encoded = x_base_encoded[['age_grp', 'bmi_grp', 'income_grp', 'gen_health', 'high_bp_No']]"
   ]
  },
  {
   "cell_type": "markdown",
   "metadata": {},
   "source": [
    "## Normalization of Dataset with Important Features"
   ]
  },
  {
   "cell_type": "code",
   "execution_count": 16,
   "metadata": {},
   "outputs": [],
   "source": [
    "scaler = StandardScaler()\n",
    "x_train_featured_scaled = scaler.fit_transform(x_train_featured_encoded)\n",
    "x_test_featured_scaled = scaler.transform(x_test_featured_encoded)\n",
    "x_base_featured_scaled = scaler.transform(x_base_featured_encoded)"
   ]
  },
  {
   "cell_type": "markdown",
   "metadata": {},
   "source": [
    "## Determining Optimal k-value for KNN"
   ]
  },
  {
   "cell_type": "code",
   "execution_count": 14,
   "metadata": {},
   "outputs": [
    {
     "name": "stdout",
     "output_type": "stream",
     "text": [
      "Best k: 289, Best cross-validated accuracy: 0.8585416165470307\n"
     ]
    }
   ],
   "source": [
    "# Define the parameter grid to test range of values of k\n",
    "param_grid = {'n_neighbors': [pow(k, 2) for k in range(1, 31)]}\n",
    "\n",
    "# GridSearch with cross-validation to find best value of n_neighbours\n",
    "grid = GridSearchCV(KNeighborsClassifier(), param_grid, cv=5, scoring='accuracy', n_jobs=-1)\n",
    "grid.fit(x_train_featured_scaled, y_train)\n",
    "\n",
    "best_k = grid.best_params_['n_neighbors']\n",
    "best_score = grid.best_score_\n",
    "print(f\"Best k: {best_k}, Best cross-validated accuracy: {best_score}\")"
   ]
  },
  {
   "cell_type": "code",
   "execution_count": 15,
   "metadata": {},
   "outputs": [
    {
     "data": {
      "image/png": "[encoded data removed]",
      "text/plain": [
       "<Figure size 1000x600 with 1 Axes>"
      ]
     },
     "metadata": {},
     "output_type": "display_data"
    }
   ],
   "source": [
    "# Retrieve the mean cross-validated accuracy scores for each value of k\n",
    "mean_scores = grid.cv_results_['mean_test_score']\n",
    "\n",
    "# Create a list of k values used in the parameter grid\n",
    "k_values = param_grid['n_neighbors']\n",
    "\n",
    "# Plot accuracy vs. k\n",
    "plt.figure(figsize=(10, 6))\n",
    "plt.plot(k_values, mean_scores, marker='o', linestyle='-', color='b')\n",
    "plt.title(' k Value vs. Accuracy', fontsize=16)\n",
    "plt.xlabel('k (Number of Neighbors)', fontsize=14)\n",
    "plt.ylabel('Mean Cross-Validated Accuracy', fontsize=14)\n",
    "plt.xticks(k_values, rotation=45)  # Ensure all k values are visible\n",
    "plt.grid(True, linestyle='--', alpha=0.6)\n",
    "plt.show()"
   ]
  },
  {
   "cell_type": "markdown",
   "metadata": {},
   "source": [
    "## K-Nearest Neighbours (KNN) Model"
   ]
  },
  {
   "cell_type": "code",
   "execution_count": 16,
   "metadata": {},
   "outputs": [],
   "source": [
    "# k-value taken from result of finding optimal k\n",
    "knn = KNeighborsClassifier(\n",
    "    algorithm = 'brute', \n",
    "    metric = 'euclidean', \n",
    "    n_neighbors = 289, \n",
    "    weights = 'uniform'\n",
    ")"
   ]
  },
  {
   "cell_type": "code",
   "execution_count": 17,
   "metadata": {},
   "outputs": [
    {
     "name": "stdout",
     "output_type": "stream",
     "text": [
      "Cross-Validation Accuracy Scores: [0.85958508 0.8588196  0.85870184 0.85999725 0.85807376]\n",
      "Cross-Validation Precision Scores: [0.70502749 0.70632599 0.71332495 0.71873989 0.70906952]\n",
      "Cross-Validation Recall Scores: [0.56219242 0.56334491 0.56312866 0.56536743 0.56494957]\n",
      "Cross-Validation F1 Scores: [0.57576186 0.57725876 0.57682494 0.58022118 0.57937752]\n",
      "\n",
      "\n",
      "Mean Accuracy: 85.904\n",
      "Mean Precision: 71.050\n",
      "Mean Recall: 56.380\n",
      "Mean F1-Score: 57.789\n"
     ]
    }
   ],
   "source": [
    "kfold = KFold(n_splits=5, shuffle=True, random_state=42)\n",
    "\n",
    "scoring = [\n",
    "    'accuracy', \n",
    "    'precision_macro', \n",
    "    'recall_macro', \n",
    "    'f1_macro'\n",
    "]\n",
    "\n",
    "cv_results = cross_validate(knn, x_base_featured_scaled, y_base, cv=kfold, scoring=scoring, n_jobs=-1)\n",
    "\n",
    "# Print the results\n",
    "print(f\"Cross-Validation Accuracy Scores: {cv_results['test_accuracy']}\")\n",
    "print(f\"Cross-Validation Precision Scores: {cv_results['test_precision_macro']}\")\n",
    "print(f\"Cross-Validation Recall Scores: {cv_results['test_recall_macro']}\")\n",
    "print(f\"Cross-Validation F1 Scores: {cv_results['test_f1_macro']}\")\n",
    "\n",
    "print(\"\\n\")\n",
    "\n",
    "# Calculate and print mean scores for each metric\n",
    "print(f\"Mean Accuracy: {cv_results['test_accuracy'].mean()*100:.3f}\")\n",
    "print(f\"Mean Precision: {cv_results['test_precision_macro'].mean()*100:.3f}\")\n",
    "print(f\"Mean Recall: {cv_results['test_recall_macro'].mean()*100:.3f}\")\n",
    "print(f\"Mean F1-Score: {cv_results['test_f1_macro'].mean()*100:.3f}\")"
   ]
  },
  {
   "cell_type": "code",
   "execution_count": 18,
   "metadata": {},
   "outputs": [
    {
     "name": "stdout",
     "output_type": "stream",
     "text": [
      "Fitting 5 folds for each of 24 candidates, totalling 120 fits\n",
      "Best Parameters: {'algorithm': 'brute', 'metric': 'euclidean', 'n_neighbors': 289, 'weights': 'uniform'}\n",
      "Best Cross-Validated Accuracy: 0.8587154610059953\n"
     ]
    }
   ],
   "source": [
    "param_grid = {\n",
    "    'n_neighbors' : [289], # k-value taken from result of finding optimal k\n",
    "    'weights': ['uniform', 'distance'],  \n",
    "    'metric': ['euclidean', 'manhattan', 'minkowski'],  \n",
    "    'algorithm': ['auto', 'ball_tree', 'kd_tree', 'brute']  \n",
    "}\n",
    "\n",
    "knn = KNeighborsClassifier()\n",
    "\n",
    "grid_search = GridSearchCV(\n",
    "    estimator=knn,\n",
    "    param_grid=param_grid,\n",
    "    scoring='accuracy', \n",
    "    cv=5, \n",
    "    verbose=1,  \n",
    "    n_jobs=-1  \n",
    ")\n",
    "\n",
    "# Fit the model\n",
    "grid_search.fit(x_train_featured_scaled, y_train)\n",
    "\n",
    "# Best parameters and accuracy\n",
    "print(\"Best Parameters:\", grid_search.best_params_)\n",
    "print(\"Best Cross-Validated Accuracy:\", grid_search.best_score_)"
   ]
  },
  {
   "cell_type": "markdown",
   "metadata": {},
   "source": [
    "## Decision Tree (DT) Model"
   ]
  },
  {
   "cell_type": "code",
   "execution_count": 19,
   "metadata": {},
   "outputs": [],
   "source": [
    "dt = DecisionTreeClassifier(\n",
    "    criterion = 'gini', \n",
    "    max_depth = 5, \n",
    "    min_samples_leaf = 1, \n",
    "    min_samples_split = 2\n",
    ")"
   ]
  },
  {
   "cell_type": "code",
   "execution_count": 20,
   "metadata": {},
   "outputs": [
    {
     "name": "stdout",
     "output_type": "stream",
     "text": [
      "Cross-Validation Accuracy Scores: [0.85893737 0.8588196  0.85858407 0.8597421  0.85830929]\n",
      "Cross-Validation Precision Scores: [0.6998274  0.70454393 0.71143888 0.71318028 0.70869882]\n",
      "Cross-Validation Recall Scores: [0.57082336 0.57407848 0.56613573 0.57645239 0.57307561]\n",
      "Cross-Validation F1 Scores: [0.58770513 0.59206119 0.5811279  0.5954316  0.59066173]\n",
      "\n",
      "\n",
      "Mean Accuracy: 85.888\n",
      "Mean Precision: 70.754\n",
      "Mean Recall: 57.211\n",
      "Mean F1-Score: 58.940\n"
     ]
    }
   ],
   "source": [
    "kfold = KFold(n_splits=5, shuffle=True, random_state=42)\n",
    "\n",
    "scoring = [\n",
    "    'accuracy', \n",
    "    'precision_macro', \n",
    "    'recall_macro', \n",
    "    'f1_macro'\n",
    "]\n",
    "\n",
    "cv_results = cross_validate(dt, x_base_featured_scaled, y_base, cv=kfold, scoring=scoring, n_jobs=-1)\n",
    "\n",
    "# Print the results\n",
    "print(f\"Cross-Validation Accuracy Scores: {cv_results['test_accuracy']}\")\n",
    "print(f\"Cross-Validation Precision Scores: {cv_results['test_precision_macro']}\")\n",
    "print(f\"Cross-Validation Recall Scores: {cv_results['test_recall_macro']}\")\n",
    "print(f\"Cross-Validation F1 Scores: {cv_results['test_f1_macro']}\")\n",
    "\n",
    "print(\"\\n\")\n",
    "\n",
    "# Calculate and print mean scores for each metric\n",
    "print(f\"Mean Accuracy: {cv_results['test_accuracy'].mean()*100:.3f}\")\n",
    "print(f\"Mean Precision: {cv_results['test_precision_macro'].mean()*100:.3f}\")\n",
    "print(f\"Mean Recall: {cv_results['test_recall_macro'].mean()*100:.3f}\")\n",
    "print(f\"Mean F1-Score: {cv_results['test_f1_macro'].mean()*100:.3f}\")"
   ]
  },
  {
   "cell_type": "code",
   "execution_count": 21,
   "metadata": {},
   "outputs": [
    {
     "name": "stdout",
     "output_type": "stream",
     "text": [
      "Best Parameters: {'criterion': 'gini', 'max_depth': 5, 'min_samples_leaf': 1, 'min_samples_split': 2}\n"
     ]
    }
   ],
   "source": [
    "# Define parameter grid\n",
    "param_grid = {\n",
    "    'criterion': ['gini', 'entropy'],\n",
    "    'max_depth': [3, 5, 10, None],\n",
    "    'min_samples_split': [2, 5, 10],\n",
    "    'min_samples_leaf': [1, 2, 4]\n",
    "}\n",
    "\n",
    "dt = DecisionTreeClassifier(random_state=42)\n",
    "\n",
    "# Grid search\n",
    "grid_search = GridSearchCV(\n",
    "    estimator=dt,\n",
    "    param_grid=param_grid,\n",
    "    cv=5,\n",
    "    scoring='accuracy',\n",
    "    n_jobs=-1\n",
    ")\n",
    "grid_search.fit(x_train_featured_encoded, y_train)\n",
    "\n",
    "# Best parameters\n",
    "print(\"Best Parameters:\", grid_search.best_params_)\n",
    "\n",
    "# Use the best model\n",
    "best_model = grid_search.best_estimator_"
   ]
  },
  {
   "cell_type": "markdown",
   "metadata": {},
   "source": [
    "## Support Vector Machine (SVM) Model"
   ]
  },
  {
   "cell_type": "code",
   "execution_count": 22,
   "metadata": {},
   "outputs": [],
   "source": [
    "# hyperparameter tuning not done for SVM as it was too computationally expansive\n",
    "# set to linear kernel as it is less computationally expansive\n",
    "\n",
    "svm = SVC(kernel='linear', C = 1, random_state=42)"
   ]
  },
  {
   "cell_type": "code",
   "execution_count": 23,
   "metadata": {},
   "outputs": [
    {
     "name": "stdout",
     "output_type": "stream",
     "text": [
      "Cross-Validation Accuracy Scores: [0.85668021 0.8556007  0.85442305 0.85493336 0.85428566]\n",
      "Cross-Validation Precision Scores: [0.4283401  0.42780035 0.42721153 0.42746668 0.42714283]\n",
      "Cross-Validation Recall Scores: [0.5 0.5 0.5 0.5 0.5]\n",
      "Cross-Validation F1 Scores: [0.46140429 0.46109096 0.46074872 0.46089708 0.46070877]\n",
      "\n",
      "\n",
      "Mean Accuracy: 85.518\n",
      "Mean Precision: 42.759\n",
      "Mean Recall: 50.000\n",
      "Mean F1-Score: 46.097\n"
     ]
    }
   ],
   "source": [
    "kfold = KFold(n_splits=5, shuffle=True, random_state=42)\n",
    "\n",
    "scoring = [\n",
    "    'accuracy', \n",
    "    'precision_macro', \n",
    "    'recall_macro', \n",
    "    'f1_macro'\n",
    "]\n",
    "\n",
    "cv_results = cross_validate(svm, x_base_featured_scaled, y_base, cv=kfold, scoring=scoring, n_jobs=-1)\n",
    "\n",
    "# Print the results\n",
    "print(f\"Cross-Validation Accuracy Scores: {cv_results['test_accuracy']}\")\n",
    "print(f\"Cross-Validation Precision Scores: {cv_results['test_precision_macro']}\")\n",
    "print(f\"Cross-Validation Recall Scores: {cv_results['test_recall_macro']}\")\n",
    "print(f\"Cross-Validation F1 Scores: {cv_results['test_f1_macro']}\")\n",
    "\n",
    "print(\"\\n\")\n",
    "\n",
    "# Calculate and print mean scores for each metric\n",
    "print(f\"Mean Accuracy: {cv_results['test_accuracy'].mean()*100:.3f}\")\n",
    "print(f\"Mean Precision: {cv_results['test_precision_macro'].mean()*100:.3f}\")\n",
    "print(f\"Mean Recall: {cv_results['test_recall_macro'].mean()*100:.3f}\")\n",
    "print(f\"Mean F1-Score: {cv_results['test_f1_macro'].mean()*100:.3f}\")"
   ]
  },
  {
   "cell_type": "markdown",
   "metadata": {},
   "source": [
    "## Naive Bayes (NB) Model"
   ]
  },
  {
   "cell_type": "code",
   "execution_count": 24,
   "metadata": {},
   "outputs": [],
   "source": [
    "nb_model = GaussianNB(var_smoothing = 0.001)"
   ]
  },
  {
   "cell_type": "code",
   "execution_count": null,
   "metadata": {},
   "outputs": [
    {
     "name": "stdout",
     "output_type": "stream",
     "text": [
      "Cross-Validation Accuracy Scores: [0.82855404 0.83004573 0.83006536 0.83106636 0.83220475]\n",
      "Cross-Validation Precision Scores: [0.65134551 0.65563954 0.65618374 0.65986491 0.6583365 ]\n",
      "Cross-Validation Recall Scores: [0.65201789 0.65488249 0.65235234 0.66056458 0.64996849]\n",
      "Cross-Validation F1 Scores: [0.65168018 0.65525915 0.65421988 0.6602132  0.6539256 ]\n",
      "\n",
      "\n",
      "Mean Accuracy: 83.039\n",
      "Mean Precision: 65.627\n",
      "Mean Recall: 65.396\n",
      "Mean F1-Score: 65.506\n"
     ]
    }
   ],
   "source": [
    "kfold = KFold(n_splits=5, shuffle=True, random_state=42)\n",
    "\n",
    "scoring = [\n",
    "    'accuracy', \n",
    "    'precision_macro', \n",
    "    'recall_macro', \n",
    "    'f1_macro'\n",
    "]\n",
    "\n",
    "cv_results = cross_validate(\n",
    "    nb_model, \n",
    "    x_base_featured_scaled, \n",
    "    y_base, \n",
    "    cv=kfold, \n",
    "    scoring=scoring, \n",
    "    n_jobs=-1\n",
    ")\n",
    "\n",
    "# Print the results\n",
    "print(f\"Cross-Validation Accuracy Scores: {cv_results['test_accuracy']}\")\n",
    "print(f\"Cross-Validation Precision Scores: {cv_results['test_precision_macro']}\")\n",
    "print(f\"Cross-Validation Recall Scores: {cv_results['test_recall_macro']}\")\n",
    "print(f\"Cross-Validation F1 Scores: {cv_results['test_f1_macro']}\")\n",
    "\n",
    "print(\"\\n\")\n",
    "\n",
    "# Calculate and print mean scores for each metric\n",
    "print(f\"Mean Accuracy: {cv_results['test_accuracy'].mean()*100:.3f}\")\n",
    "print(f\"Mean Precision: {cv_results['test_precision_macro'].mean()*100:.3f}\")\n",
    "print(f\"Mean Recall: {cv_results['test_recall_macro'].mean()*100:.3f}\")\n",
    "print(f\"Mean F1-Score: {cv_results['test_f1_macro'].mean()*100:.3f}\")"
   ]
  },
  {
   "cell_type": "code",
   "execution_count": 26,
   "metadata": {},
   "outputs": [
    {
     "name": "stdout",
     "output_type": "stream",
     "text": [
      "Best Parameters: {'var_smoothing': 0.001}\n",
      "Best Cross-Validated Accuracy: 0.833558580333907\n"
     ]
    }
   ],
   "source": [
    "# Define parameter grid\n",
    "param_grid = {\n",
    "    'var_smoothing': [1e-9, 1e-8, 1e-7, 1e-6, 1e-5, 1e-4, 1e-3]\n",
    "}\n",
    "\n",
    "nb = GaussianNB()\n",
    "\n",
    "# GridSearchCV\n",
    "grid_search = GridSearchCV(\n",
    "    estimator=nb, \n",
    "    param_grid=param_grid, \n",
    "    cv=5, \n",
    "    scoring='accuracy', \n",
    "    n_jobs=-1\n",
    ")\n",
    "\n",
    "grid_search.fit(x_train_featured_encoded, y_train)\n",
    "\n",
    "# Results\n",
    "print(\"Best Parameters:\", grid_search.best_params_)\n",
    "print(\"Best Cross-Validated Accuracy:\", grid_search.best_score_)"
   ]
  },
  {
   "cell_type": "markdown",
   "metadata": {},
   "source": [
    "## Bagging - Random Forest (RF)"
   ]
  },
  {
   "cell_type": "code",
   "execution_count": 27,
   "metadata": {},
   "outputs": [],
   "source": [
    "rf = RandomForestClassifier(\n",
    "    max_depth = 10, \n",
    "    min_samples_leaf = 4, \n",
    "    min_samples_split = 5, \n",
    "    n_estimators = 50\n",
    ")"
   ]
  },
  {
   "cell_type": "code",
   "execution_count": 28,
   "metadata": {},
   "outputs": [
    {
     "name": "stdout",
     "output_type": "stream",
     "text": [
      "Confusion Matrix:\n",
      "[[213245   4609]\n",
      " [ 31292   5599]]\n"
     ]
    },
    {
     "data": {
      "image/png": "[encoded data removed]",
      "text/plain": [
       "<Figure size 800x600 with 2 Axes>"
      ]
     },
     "metadata": {},
     "output_type": "display_data"
    },
    {
     "name": "stdout",
     "output_type": "stream",
     "text": [
      "Cross-Validation Accuracy Scores: [0.85919253 0.85889811 0.85889811 0.8598206  0.85825041]\n",
      "Cross-Validation Precision Scores: [0.70231444 0.70599805 0.71461332 0.71724485 0.71030225]\n",
      "Cross-Validation Recall Scores: [0.56190629 0.56757123 0.56363501 0.56571349 0.56499709]\n",
      "Cross-Validation F1 Scores: [0.57531725 0.58324081 0.57757489 0.58069848 0.57946292]\n",
      "\n",
      "\n",
      "Mean Accuracy: 85.901\n",
      "Mean Precision: 71.009\n",
      "Mean Recall: 56.476\n",
      "Mean F1-Score: 57.926\n"
     ]
    }
   ],
   "source": [
    "kfold = KFold(n_splits=5, shuffle=True, random_state=42)\n",
    "\n",
    "scoring = [\n",
    "    'accuracy', \n",
    "    'precision_macro', \n",
    "    'recall_macro', \n",
    "    'f1_macro'\n",
    "]\n",
    "\n",
    "rf_pred_cv = cross_val_predict(rf, x_base_featured_scaled, y_base, cv=kfold)\n",
    "cm = confusion_matrix(y_base, rf_pred_cv)\n",
    "\n",
    "print(\"Confusion Matrix:\")\n",
    "print(cm)\n",
    "\n",
    "plt.figure(figsize=(8, 6))\n",
    "sns.heatmap(cm, annot=True, fmt='d', cmap='Reds', xticklabels=np.unique(y_base), yticklabels=np.unique(y_base))\n",
    "plt.title(\"Random Forest Confusion Matrix (Cross-Validation)\")\n",
    "plt.xlabel(\"Predicted Labels\")\n",
    "plt.ylabel(\"True Labels\")\n",
    "plt.show()\n",
    "\n",
    "cv_results = cross_validate(rf, x_base_featured_scaled, y_base, cv=kfold, scoring=scoring, n_jobs=-1)\n",
    "\n",
    "# Print the results\n",
    "print(f\"Cross-Validation Accuracy Scores: {cv_results['test_accuracy']}\")\n",
    "print(f\"Cross-Validation Precision Scores: {cv_results['test_precision_macro']}\")\n",
    "print(f\"Cross-Validation Recall Scores: {cv_results['test_recall_macro']}\")\n",
    "print(f\"Cross-Validation F1 Scores: {cv_results['test_f1_macro']}\")\n",
    "\n",
    "print(\"\\n\")\n",
    "\n",
    "# Calculate and print mean scores for each metric\n",
    "print(f\"Mean Accuracy: {cv_results['test_accuracy'].mean()*100:.3f}\")\n",
    "print(f\"Mean Precision: {cv_results['test_precision_macro'].mean()*100:.3f}\")\n",
    "print(f\"Mean Recall: {cv_results['test_recall_macro'].mean()*100:.3f}\")\n",
    "print(f\"Mean F1-Score: {cv_results['test_f1_macro'].mean()*100:.3f}\")"
   ]
  },
  {
   "cell_type": "code",
   "execution_count": 29,
   "metadata": {},
   "outputs": [
    {
     "name": "stdout",
     "output_type": "stream",
     "text": [
      "Fitting 5 folds for each of 81 candidates, totalling 405 fits\n",
      "Best Parameters: {'max_depth': 10, 'min_samples_leaf': 2, 'min_samples_split': 10, 'n_estimators': 100}\n"
     ]
    }
   ],
   "source": [
    "param_grid = {\n",
    "    'n_estimators': [50, 100, 200],\n",
    "    'max_depth': [None, 10, 20],\n",
    "    'min_samples_split': [2, 5, 10],\n",
    "    'min_samples_leaf': [1, 2, 4]\n",
    "}\n",
    "\n",
    "rf = RandomForestClassifier()\n",
    "\n",
    "grid_search = GridSearchCV(\n",
    "    estimator=rf,\n",
    "    param_grid=param_grid, \n",
    "    cv=5, \n",
    "    n_jobs=-1, \n",
    "    verbose=2\n",
    ")\n",
    "\n",
    "# Fit the model\n",
    "grid_search.fit(x_train_featured_encoded, y_train)\n",
    "\n",
    "# Best parameters\n",
    "print(\"Best Parameters:\", grid_search.best_params_)\n",
    "\n",
    "# Best model\n",
    "best_rf = grid_search.best_estimator_"
   ]
  },
  {
   "cell_type": "markdown",
   "metadata": {},
   "source": [
    "## Bagging - K-Nearest Neighbor (KNN)"
   ]
  },
  {
   "cell_type": "code",
   "execution_count": 30,
   "metadata": {},
   "outputs": [],
   "source": [
    "knn_base = KNeighborsClassifier(n_neighbors=289)\n",
    "\n",
    "bagging_clf_knn =  BaggingClassifier(\n",
    "    estimator=knn_base,\n",
    "    n_estimators=10,  \n",
    "    max_samples=0.8,  \n",
    "    random_state=42\n",
    ")"
   ]
  },
  {
   "cell_type": "code",
   "execution_count": 31,
   "metadata": {},
   "outputs": [
    {
     "name": "stdout",
     "output_type": "stream",
     "text": [
      "Cross-Validation Accuracy Scores: [0.85954582 0.8586037  0.85842705 0.85966359 0.85803451]\n",
      "Cross-Validation Precision Scores: [0.70359926 0.70494279 0.71061205 0.71581856 0.71010042]\n",
      "Cross-Validation Recall Scores: [0.56958196 0.56271031 0.56520494 0.56635188 0.56062526]\n",
      "Cross-Validation F1 Scores: [0.58612923 0.57632776 0.57978775 0.58159111 0.57310512]\n",
      "\n",
      "\n",
      "Mean Accuracy: 85.885\n",
      "Mean Precision: 70.901\n",
      "Mean Recall: 56.489\n",
      "Mean F1-Score: 57.939\n"
     ]
    }
   ],
   "source": [
    "kfold = KFold(n_splits=5, shuffle=True, random_state=42)\n",
    "\n",
    "scoring = [\n",
    "    'accuracy', \n",
    "    'precision_macro', \n",
    "    'recall_macro', \n",
    "    'f1_macro'\n",
    "]\n",
    "\n",
    "cv_results = cross_validate(bagging_clf_knn, x_base_featured_scaled, y_base, cv=kfold, scoring=scoring, n_jobs=-1)\n",
    "\n",
    "# Print the results\n",
    "print(f\"Cross-Validation Accuracy Scores: {cv_results['test_accuracy']}\")\n",
    "print(f\"Cross-Validation Precision Scores: {cv_results['test_precision_macro']}\")\n",
    "print(f\"Cross-Validation Recall Scores: {cv_results['test_recall_macro']}\")\n",
    "print(f\"Cross-Validation F1 Scores: {cv_results['test_f1_macro']}\")\n",
    "\n",
    "print(\"\\n\")\n",
    "\n",
    "# Calculate and print mean scores for each metric\n",
    "print(f\"Mean Accuracy: {cv_results['test_accuracy'].mean()*100:.3f}\")\n",
    "print(f\"Mean Precision: {cv_results['test_precision_macro'].mean()*100:.3f}\")\n",
    "print(f\"Mean Recall: {cv_results['test_recall_macro'].mean()*100:.3f}\")\n",
    "print(f\"Mean F1-Score: {cv_results['test_f1_macro'].mean()*100:.3f}\")"
   ]
  },
  {
   "cell_type": "markdown",
   "metadata": {},
   "source": [
    "## Bagging - Decision Tree (DT)"
   ]
  },
  {
   "cell_type": "code",
   "execution_count": 32,
   "metadata": {},
   "outputs": [],
   "source": [
    "dt_base = DecisionTreeClassifier(\n",
    "    criterion = 'gini', \n",
    "    max_depth = 10, \n",
    "    min_samples_leaf = 4, \n",
    "    min_samples_split = 2\n",
    ")\n",
    "\n",
    "bagging_clf_dt =  BaggingClassifier(\n",
    "    estimator=dt_base,\n",
    "    n_estimators=10,  \n",
    "    max_samples=0.8,  \n",
    "    random_state=42\n",
    ")"
   ]
  },
  {
   "cell_type": "code",
   "execution_count": 33,
   "metadata": {},
   "outputs": [
    {
     "name": "stdout",
     "output_type": "stream",
     "text": [
      "Cross-Validation Accuracy Scores: [0.85931029 0.85905513 0.85876072 0.85976172 0.8581719 ]\n",
      "Cross-Validation Precision Scores: [0.70304306 0.70724804 0.71350248 0.71518851 0.71042326]\n",
      "Cross-Validation Recall Scores: [0.56248819 0.56653314 0.56383424 0.57000421 0.56277255]\n",
      "Cross-Validation F1 Scores: [0.57616468 0.58181069 0.57785169 0.58672657 0.57625398]\n",
      "\n",
      "\n",
      "Mean Accuracy: 85.901\n",
      "Mean Precision: 70.988\n",
      "Mean Recall: 56.513\n",
      "Mean F1-Score: 57.976\n"
     ]
    }
   ],
   "source": [
    "kfold = KFold(n_splits=5, shuffle=True, random_state=42)\n",
    "\n",
    "scoring = [\n",
    "    'accuracy', \n",
    "    'precision_macro', \n",
    "    'recall_macro', \n",
    "    'f1_macro'\n",
    "]\n",
    "\n",
    "cv_results = cross_validate(bagging_clf_dt, x_base_featured_encoded, y_base, cv=kfold, scoring=scoring, n_jobs=-1)\n",
    "\n",
    "# Print the results\n",
    "print(f\"Cross-Validation Accuracy Scores: {cv_results['test_accuracy']}\")\n",
    "print(f\"Cross-Validation Precision Scores: {cv_results['test_precision_macro']}\")\n",
    "print(f\"Cross-Validation Recall Scores: {cv_results['test_recall_macro']}\")\n",
    "print(f\"Cross-Validation F1 Scores: {cv_results['test_f1_macro']}\")\n",
    "\n",
    "print(\"\\n\")\n",
    "\n",
    "# Calculate and print mean scores for each metric\n",
    "print(f\"Mean Accuracy: {cv_results['test_accuracy'].mean()*100:.3f}\")\n",
    "print(f\"Mean Precision: {cv_results['test_precision_macro'].mean()*100:.3f}\")\n",
    "print(f\"Mean Recall: {cv_results['test_recall_macro'].mean()*100:.3f}\")\n",
    "print(f\"Mean F1-Score: {cv_results['test_f1_macro'].mean()*100:.3f}\")"
   ]
  },
  {
   "cell_type": "markdown",
   "metadata": {},
   "source": [
    "## Bagging - Naive Bayes (NB)"
   ]
  },
  {
   "cell_type": "code",
   "execution_count": 34,
   "metadata": {},
   "outputs": [],
   "source": [
    "nb_base = MultinomialNB()\n",
    "\n",
    "bagging_clf_nb = BaggingClassifier(\n",
    "    estimator=nb_base,           \n",
    "    n_estimators=10,            \n",
    "    max_samples=0.8,            \n",
    "    max_features=1.0,           \n",
    "    bootstrap=True,             \n",
    "    bootstrap_features=False,   \n",
    "    random_state=42\n",
    ")"
   ]
  },
  {
   "cell_type": "code",
   "execution_count": 35,
   "metadata": {},
   "outputs": [
    {
     "name": "stdout",
     "output_type": "stream",
     "text": [
      "Cross-Validation Accuracy Scores: [0.85034054 0.85134154 0.85008538 0.85012463 0.84943767]\n",
      "Cross-Validation Precision Scores: [0.65757803 0.66533859 0.66539407 0.6623014  0.66131524]\n",
      "Cross-Validation Recall Scores: [0.5656918  0.56473707 0.56647543 0.56358166 0.56218532]\n",
      "Cross-Validation F1 Scores: [0.57947332 0.57836182 0.58050075 0.57665394 0.5746756 ]\n",
      "\n",
      "\n",
      "Mean Accuracy: 85.027\n",
      "Mean Precision: 66.239\n",
      "Mean Recall: 56.453\n",
      "Mean F1-Score: 57.793\n"
     ]
    }
   ],
   "source": [
    "kfold = KFold(n_splits=5, shuffle=True, random_state=42)\n",
    "\n",
    "scoring = [\n",
    "    'accuracy', \n",
    "    'precision_macro', \n",
    "    'recall_macro', \n",
    "    'f1_macro'\n",
    "]\n",
    "\n",
    "cv_results = cross_validate(bagging_clf_nb, x_base_featured_encoded, y_base, cv=kfold, scoring=scoring, n_jobs=-1)\n",
    "\n",
    "# Print the results\n",
    "print(f\"Cross-Validation Accuracy Scores: {cv_results['test_accuracy']}\")\n",
    "print(f\"Cross-Validation Precision Scores: {cv_results['test_precision_macro']}\")\n",
    "print(f\"Cross-Validation Recall Scores: {cv_results['test_recall_macro']}\")\n",
    "print(f\"Cross-Validation F1 Scores: {cv_results['test_f1_macro']}\")\n",
    "\n",
    "print(\"\\n\")\n",
    "\n",
    "# Calculate and print mean scores for each metric\n",
    "print(f\"Mean Accuracy: {cv_results['test_accuracy'].mean()*100:.3f}\")\n",
    "print(f\"Mean Precision: {cv_results['test_precision_macro'].mean()*100:.3f}\")\n",
    "print(f\"Mean Recall: {cv_results['test_recall_macro'].mean()*100:.3f}\")\n",
    "print(f\"Mean F1-Score: {cv_results['test_f1_macro'].mean()*100:.3f}\")"
   ]
  },
  {
   "cell_type": "markdown",
   "metadata": {},
   "source": [
    "## Bagging - Standard Vector Machine (SVM)"
   ]
  },
  {
   "cell_type": "code",
   "execution_count": 36,
   "metadata": {},
   "outputs": [],
   "source": [
    "svm_base = SVC(kernel='linear', C=1)\n",
    "\n",
    "bagging_clf_svm =  BaggingClassifier(\n",
    "    estimator=svm_base,\n",
    "    n_estimators=10,          \n",
    "    max_samples=0.8,          \n",
    "    max_features=1.0,         \n",
    "    bootstrap=True,           \n",
    "    bootstrap_features=False, \n",
    "    n_jobs=-1,                \n",
    "    random_state=42\n",
    ")"
   ]
  },
  {
   "cell_type": "code",
   "execution_count": 37,
   "metadata": {},
   "outputs": [
    {
     "name": "stdout",
     "output_type": "stream",
     "text": [
      "Cross-Validation Accuracy Scores: [0.85668021 0.8556007  0.85442305 0.85493336 0.85428566]\n",
      "Cross-Validation Precision Scores: [0.4283401  0.42780035 0.42721153 0.42746668 0.42714283]\n",
      "Cross-Validation Recall Scores: [0.5 0.5 0.5 0.5 0.5]\n",
      "Cross-Validation F1 Scores: [0.46140429 0.46109096 0.46074872 0.46089708 0.46070877]\n",
      "\n",
      "\n",
      "Mean Accuracy: 85.518\n",
      "Mean Precision: 42.759\n",
      "Mean Recall: 50.000\n",
      "Mean F1-Score: 46.097\n"
     ]
    }
   ],
   "source": [
    "kfold = KFold(n_splits=5, shuffle=True, random_state=42)\n",
    "\n",
    "scoring = [\n",
    "    'accuracy', \n",
    "    'precision_macro', \n",
    "    'recall_macro', \n",
    "    'f1_macro'\n",
    "]\n",
    "\n",
    "cv_results = cross_validate(bagging_clf_svm, x_base_featured_scaled, y_base, cv=kfold, scoring=scoring, n_jobs=-1)\n",
    "\n",
    "# Print the results\n",
    "print(f\"Cross-Validation Accuracy Scores: {cv_results['test_accuracy']}\")\n",
    "print(f\"Cross-Validation Precision Scores: {cv_results['test_precision_macro']}\")\n",
    "print(f\"Cross-Validation Recall Scores: {cv_results['test_recall_macro']}\")\n",
    "print(f\"Cross-Validation F1 Scores: {cv_results['test_f1_macro']}\")\n",
    "\n",
    "print(\"\\n\")\n",
    "\n",
    "# Calculate and print mean scores for each metric\n",
    "print(f\"Mean Accuracy: {cv_results['test_accuracy'].mean()*100:.3f}\")\n",
    "print(f\"Mean Precision: {cv_results['test_precision_macro'].mean()*100:.3f}\")\n",
    "print(f\"Mean Recall: {cv_results['test_recall_macro'].mean()*100:.3f}\")\n",
    "print(f\"Mean F1-Score: {cv_results['test_f1_macro'].mean()*100:.3f}\")"
   ]
  },
  {
   "cell_type": "markdown",
   "metadata": {},
   "source": [
    "## Boosting - AdaBoost (AB)"
   ]
  },
  {
   "cell_type": "code",
   "execution_count": 38,
   "metadata": {},
   "outputs": [],
   "source": [
    "base_model = DecisionTreeClassifier(max_depth=1)\n",
    "\n",
    "adaboost_clf = AdaBoostClassifier(estimator=base_model, n_estimators=50, random_state=42)"
   ]
  },
  {
   "cell_type": "code",
   "execution_count": 39,
   "metadata": {},
   "outputs": [
    {
     "name": "stdout",
     "output_type": "stream",
     "text": [
      "Cross-Validation Accuracy Scores: [0.85905513 0.85803451 0.85807376 0.85883923 0.85707276]\n",
      "Cross-Validation Precision Scores: [0.70076138 0.70037607 0.7070746  0.70898886 0.70205895]\n",
      "Cross-Validation Recall Scores: [0.56752799 0.56915678 0.56997569 0.57019492 0.56659816]\n",
      "Cross-Validation F1 Scores: [0.58323292 0.58529779 0.58641213 0.58684147 0.58159323]\n",
      "\n",
      "\n",
      "Mean Accuracy: 85.822\n",
      "Mean Precision: 70.385\n",
      "Mean Recall: 56.869\n",
      "Mean F1-Score: 58.468\n"
     ]
    }
   ],
   "source": [
    "kfold = KFold(n_splits=5, shuffle=True, random_state=42)\n",
    "\n",
    "scoring = [\n",
    "    'accuracy', \n",
    "    'precision_macro', \n",
    "    'recall_macro', \n",
    "    'f1_macro'\n",
    "]\n",
    "\n",
    "cv_results = cross_validate(adaboost_clf, x_base_featured_scaled, y_base, cv=kfold, scoring=scoring, n_jobs=-1)\n",
    "\n",
    "# Print the results\n",
    "print(f\"Cross-Validation Accuracy Scores: {cv_results['test_accuracy']}\")\n",
    "print(f\"Cross-Validation Precision Scores: {cv_results['test_precision_macro']}\")\n",
    "print(f\"Cross-Validation Recall Scores: {cv_results['test_recall_macro']}\")\n",
    "print(f\"Cross-Validation F1 Scores: {cv_results['test_f1_macro']}\")\n",
    "\n",
    "print(\"\\n\")\n",
    "\n",
    "# Calculate and print mean scores for each metric\n",
    "print(f\"Mean Accuracy: {cv_results['test_accuracy'].mean()*100:.3f}\")\n",
    "print(f\"Mean Precision: {cv_results['test_precision_macro'].mean()*100:.3f}\")\n",
    "print(f\"Mean Recall: {cv_results['test_recall_macro'].mean()*100:.3f}\")\n",
    "print(f\"Mean F1-Score: {cv_results['test_f1_macro'].mean()*100:.3f}\")"
   ]
  },
  {
   "cell_type": "markdown",
   "metadata": {},
   "source": [
    "## Boosting - Gradient Boost (GB)"
   ]
  },
  {
   "cell_type": "code",
   "execution_count": 40,
   "metadata": {},
   "outputs": [],
   "source": [
    "gb_clf = GradientBoostingClassifier(\n",
    "    n_estimators = 100,\n",
    "    learning_rate = 0.1,\n",
    "    max_depth = 3,\n",
    "    subsample = 1.0,\n",
    "    min_samples_split = 2,\n",
    "    min_samples_leaf = 1\n",
    ")"
   ]
  },
  {
   "cell_type": "code",
   "execution_count": 41,
   "metadata": {},
   "outputs": [
    {
     "name": "stdout",
     "output_type": "stream",
     "text": [
      "Confusion Matrix:\n",
      "[[212959   4895]\n",
      " [ 31015   5876]]\n"
     ]
    },
    {
     "data": {
      "image/png": "[encoded data removed]",
      "text/plain": [
       "<Figure size 800x600 with 2 Axes>"
      ]
     },
     "metadata": {},
     "output_type": "display_data"
    },
    {
     "name": "stdout",
     "output_type": "stream",
     "text": [
      "Cross-Validation Accuracy Scores: [0.85929066 0.85893737 0.85889811 0.85985986 0.85819152]\n",
      "Cross-Validation Precision Scores: [0.70246593 0.70587884 0.71312129 0.71544255 0.70915537]\n",
      "Cross-Validation Recall Scores: [0.56561277 0.56968439 0.5677736  0.5712412  0.56769984]\n",
      "Cross-Validation F1 Scores: [0.58059929 0.58616394 0.58347645 0.58844693 0.58327438]\n",
      "\n",
      "\n",
      "Mean Accuracy: 85.904\n",
      "Mean Precision: 70.921\n",
      "Mean Recall: 56.840\n",
      "Mean F1-Score: 58.439\n"
     ]
    }
   ],
   "source": [
    "kfold = KFold(n_splits=5, shuffle=True, random_state=42)\n",
    "\n",
    "scoring = [\n",
    "    'accuracy', \n",
    "    'precision_macro', \n",
    "    'recall_macro', \n",
    "    'f1_macro'\n",
    "]\n",
    "\n",
    "gb_pred_cv = cross_val_predict(gb_clf, x_base_featured_scaled, y_base, cv=kfold)\n",
    "cm = confusion_matrix(y_base, gb_pred_cv)\n",
    "\n",
    "print(\"Confusion Matrix:\")\n",
    "print(cm)\n",
    "\n",
    "plt.figure(figsize=(8, 6))\n",
    "sns.heatmap(cm, annot=True, fmt='d', cmap='Reds', xticklabels=np.unique(y_base), yticklabels=np.unique(y_base))\n",
    "plt.title(\"Gradient Boosting Confusion Matrix (Cross-Validation)\")\n",
    "plt.xlabel(\"Predicted Labels\")\n",
    "plt.ylabel(\"True Labels\")\n",
    "plt.show()\n",
    "\n",
    "cv_results = cross_validate(gb_clf, x_base_featured_scaled, y_base, cv=kfold, scoring=scoring, n_jobs=-1)\n",
    "\n",
    "# Print the results\n",
    "print(f\"Cross-Validation Accuracy Scores: {cv_results['test_accuracy']}\")\n",
    "print(f\"Cross-Validation Precision Scores: {cv_results['test_precision_macro']}\")\n",
    "print(f\"Cross-Validation Recall Scores: {cv_results['test_recall_macro']}\")\n",
    "print(f\"Cross-Validation F1 Scores: {cv_results['test_f1_macro']}\")\n",
    "\n",
    "print(\"\\n\")\n",
    "\n",
    "# Calculate and print mean scores for each metric\n",
    "print(f\"Mean Accuracy: {cv_results['test_accuracy'].mean()*100:.3f}\")\n",
    "print(f\"Mean Precision: {cv_results['test_precision_macro'].mean()*100:.3f}\")\n",
    "print(f\"Mean Recall: {cv_results['test_recall_macro'].mean()*100:.3f}\")\n",
    "print(f\"Mean F1-Score: {cv_results['test_f1_macro'].mean()*100:.3f}\")"
   ]
  },
  {
   "cell_type": "markdown",
   "metadata": {},
   "source": [
    "## Boosting - Extreme Gradient Boosting (XGB)"
   ]
  },
  {
   "cell_type": "code",
   "execution_count": 42,
   "metadata": {},
   "outputs": [],
   "source": [
    "xgb_clf = XGBClassifier(\n",
    "    objective='binary:logistic',   \n",
    "    eval_metric='logloss',         \n",
    "    learning_rate=0.1,             \n",
    "    max_depth=6,                   \n",
    "    n_estimators=100,              \n",
    "    random_state=42                \n",
    ")"
   ]
  },
  {
   "cell_type": "code",
   "execution_count": 43,
   "metadata": {},
   "outputs": [
    {
     "name": "stdout",
     "output_type": "stream",
     "text": [
      "Cross-Validation Accuracy Scores: [0.85903551 0.85889811 0.85883923 0.859958   0.85836817]\n",
      "Cross-Validation Precision Scores: [0.70109118 0.70683032 0.7142471  0.71897394 0.71131533]\n",
      "Cross-Validation Recall Scores: [0.56301204 0.56356027 0.56343277 0.56422106 0.56445154]\n",
      "Cross-Validation F1 Scores: [0.57689024 0.57757489 0.57727698 0.57856395 0.57869334]\n",
      "\n",
      "\n",
      "Mean Accuracy: 85.902\n",
      "Mean Precision: 71.049\n",
      "Mean Recall: 56.374\n",
      "Mean F1-Score: 57.780\n"
     ]
    }
   ],
   "source": [
    "kfold = KFold(n_splits=5, shuffle=True, random_state=42)\n",
    "\n",
    "scoring = [\n",
    "    'accuracy', \n",
    "    'precision_macro', \n",
    "    'recall_macro', \n",
    "    'f1_macro'\n",
    "]\n",
    "\n",
    "cv_results = cross_validate(xgb_clf, x_base_featured_scaled, y_base, cv=kfold, scoring=scoring, n_jobs=-1)\n",
    "\n",
    "# Print the results\n",
    "print(f\"Cross-Validation Accuracy Scores: {cv_results['test_accuracy']}\")\n",
    "print(f\"Cross-Validation Precision Scores: {cv_results['test_precision_macro']}\")\n",
    "print(f\"Cross-Validation Recall Scores: {cv_results['test_recall_macro']}\")\n",
    "print(f\"Cross-Validation F1 Scores: {cv_results['test_f1_macro']}\")\n",
    "\n",
    "print(\"\\n\")\n",
    "\n",
    "# Calculate and print mean scores for each metric\n",
    "print(f\"Mean Accuracy: {cv_results['test_accuracy'].mean()*100:.3f}\")\n",
    "print(f\"Mean Precision: {cv_results['test_precision_macro'].mean()*100:.3f}\")\n",
    "print(f\"Mean Recall: {cv_results['test_recall_macro'].mean()*100:.3f}\")\n",
    "print(f\"Mean F1-Score: {cv_results['test_f1_macro'].mean()*100:.3f}\")"
   ]
  },
  {
   "cell_type": "markdown",
   "metadata": {},
   "source": [
    "## Stacking - RF, NB, DT, KNN, SVM"
   ]
  },
  {
   "cell_type": "code",
   "execution_count": 44,
   "metadata": {},
   "outputs": [],
   "source": [
    "base_models = [\n",
    "    ('nb', GaussianNB()),\n",
    "    ('dt', DecisionTreeClassifier(max_depth=5)),\n",
    "    ('knn', KNeighborsClassifier(n_neighbors=289)),\n",
    "    ('rf', RandomForestClassifier()), \n",
    "    ('svm', SVC(kernel='linear', random_state=42))\n",
    "]\n",
    "\n",
    "# Meta-model (stacking model)\n",
    "meta_model = LogisticRegression()"
   ]
  },
  {
   "cell_type": "code",
   "execution_count": 45,
   "metadata": {},
   "outputs": [],
   "source": [
    "# Generate all combinations of base models\n",
    "base_model_combinations = []\n",
    "for r in range(2, len(base_models) + 1):  # Create combinations of 2 to n models\n",
    "    base_model_combinations.extend(combinations(base_models, r))"
   ]
  },
  {
   "cell_type": "code",
   "execution_count": 46,
   "metadata": {},
   "outputs": [
    {
     "name": "stdout",
     "output_type": "stream",
     "text": [
      "Evaluating Stacking Model: nb, dt\n",
      "Cross-Validation Accuracy Scores: [0.85893737 0.85856445 0.85836817 0.85948694 0.85764196]\n",
      "Cross-Validation Precision Scores: [0.6998274  0.70288717 0.70751387 0.71084183 0.7042046 ]\n",
      "Cross-Validation Recall Scores: [0.57082336 0.57618907 0.5776981  0.58034747 0.57715395]\n",
      "Cross-Validation F1 Scores: [0.58770513 0.59477665 0.59677341 0.60042606 0.59590577]\n",
      "Mean Accuracy: 85.860\n",
      "Mean Precision: 70.505\n",
      "Mean Recall: 57.644\n",
      "Mean F1-Score: 59.512\n",
      "\n",
      "\n",
      "Evaluating Stacking Model: nb, knn\n",
      "Cross-Validation Accuracy Scores: [0.85887849 0.85825041 0.85850556 0.85866258 0.85758307]\n",
      "Cross-Validation Precision Scores: [0.69929051 0.70125185 0.70909129 0.70608888 0.70405079]\n",
      "Cross-Validation Recall Scores: [0.57751722 0.57459324 0.57336028 0.58216836 0.5754995 ]\n",
      "Cross-Validation F1 Scores: [0.59648174 0.59261952 0.59107876 0.60250543 0.59373346]\n",
      "Mean Accuracy: 85.838\n",
      "Mean Precision: 70.395\n",
      "Mean Recall: 57.663\n",
      "Mean F1-Score: 59.528\n",
      "\n",
      "\n",
      "Evaluating Stacking Model: nb, rf\n",
      "Cross-Validation Accuracy Scores: [0.85844668 0.857956   0.85840743 0.85856445 0.85766158]\n",
      "Cross-Validation Precision Scores: [0.69703989 0.69955268 0.70834129 0.70532454 0.70460335]\n",
      "Cross-Validation Recall Scores: [0.57720818 0.57679387 0.57414175 0.58514419 0.57459581]\n",
      "Cross-Validation F1 Scores: [0.59597826 0.59541784 0.59210435 0.60616806 0.59255956]\n",
      "Mean Accuracy: 85.821\n",
      "Mean Precision: 70.297\n",
      "Mean Recall: 57.758\n",
      "Mean F1-Score: 59.645\n",
      "\n",
      "\n",
      "Evaluating Stacking Model: nb, svm\n",
      "Cross-Validation Accuracy Scores: [0.85542405 0.85589511 0.85526703 0.85465858 0.85391274]\n",
      "Cross-Validation Precision Scores: [0.68495686 0.69073988 0.69254767 0.68838236 0.68675264]\n",
      "Cross-Validation Recall Scores: [0.5886724  0.58920421 0.58997692 0.59055529 0.58435603]\n",
      "Cross-Validation F1 Scores: [0.60900773 0.6100187  0.61094181 0.61128751 0.60388521]\n",
      "Mean Accuracy: 85.503\n",
      "Mean Precision: 68.868\n",
      "Mean Recall: 58.855\n",
      "Mean F1-Score: 60.903\n",
      "\n",
      "\n",
      "Evaluating Stacking Model: dt, knn\n",
      "Cross-Validation Accuracy Scores: [0.85868221 0.85832892 0.85815227 0.85850556 0.8576027 ]\n",
      "Cross-Validation Precision Scores: [0.69826345 0.70144957 0.70627723 0.70527483 0.70368661]\n",
      "Cross-Validation Recall Scores: [0.5775167  0.57887606 0.57785139 0.58207653 0.58059439]\n",
      "Cross-Validation F1 Scores: [0.59643183 0.59818003 0.5969205  0.60234574 0.60030374]\n",
      "Mean Accuracy: 85.825\n",
      "Mean Precision: 70.299\n",
      "Mean Recall: 57.938\n",
      "Mean F1-Score: 59.884\n",
      "\n",
      "\n",
      "Evaluating Stacking Model: dt, rf\n",
      "Cross-Validation Accuracy Scores: [0.85870184 0.8581719  0.85846631 0.85964396 0.85787749]\n",
      "Cross-Validation Precision Scores: [0.69844241 0.70060743 0.7076066  0.71135799 0.70547665]\n",
      "Cross-Validation Recall Scores: [0.57142714 0.5795187  0.58088744 0.58234911 0.57745939]\n",
      "Cross-Validation F1 Scores: [0.58847132 0.59895572 0.60089192 0.60301195 0.59635713]\n",
      "Mean Accuracy: 85.857\n",
      "Mean Precision: 70.470\n",
      "Mean Recall: 57.833\n",
      "Mean F1-Score: 59.754\n",
      "\n",
      "\n",
      "Evaluating Stacking Model: dt, svm\n",
      "Cross-Validation Accuracy Scores: [0.85893737 0.8588196  0.85836817 0.8597421  0.85764196]\n",
      "Cross-Validation Precision Scores: [0.6998274  0.70454393 0.70751387 0.71318028 0.7042046 ]\n",
      "Cross-Validation Recall Scores: [0.57082336 0.57407848 0.5776981  0.57645239 0.57715395]\n",
      "Cross-Validation F1 Scores: [0.58770513 0.59206119 0.59677341 0.5954316  0.59590577]\n",
      "Mean Accuracy: 85.870\n",
      "Mean Precision: 70.585\n",
      "Mean Recall: 57.524\n",
      "Mean F1-Score: 59.358\n",
      "\n",
      "\n",
      "Evaluating Stacking Model: knn, rf\n",
      "Cross-Validation Accuracy Scores: [0.85850556 0.8581719  0.85862333 0.85854482 0.85768121]\n",
      "Cross-Validation Precision Scores: [0.69735319 0.70072064 0.70946467 0.70532715 0.70443099]\n",
      "Cross-Validation Recall Scores: [0.57781274 0.5764681  0.57505107 0.58384078 0.5770652 ]\n",
      "Cross-Validation F1 Scores: [0.59676524 0.59504768 0.59335784 0.6045554  0.59579969]\n",
      "Mean Accuracy: 85.831\n",
      "Mean Precision: 70.346\n",
      "Mean Recall: 57.805\n",
      "Mean F1-Score: 59.711\n",
      "\n",
      "\n",
      "Evaluating Stacking Model: knn, svm\n",
      "Cross-Validation Accuracy Scores: [0.858957   0.85825041 0.8583878  0.85866258 0.85746531]\n",
      "Cross-Validation Precision Scores: [0.69971392 0.70125185 0.70821492 0.70608888 0.70325317]\n",
      "Cross-Validation Recall Scores: [0.57704987 0.57459324 0.57418619 0.58216836 0.57693884]\n",
      "Cross-Validation F1 Scores: [0.59590133 0.59261952 0.5921596  0.60250543 0.59558567]\n",
      "Mean Accuracy: 85.834\n",
      "Mean Precision: 70.370\n",
      "Mean Recall: 57.699\n",
      "Mean F1-Score: 59.575\n",
      "\n",
      "\n",
      "Evaluating Stacking Model: rf, svm\n",
      "Cross-Validation Accuracy Scores: [0.85850556 0.85793637 0.85840743 0.85889811 0.85764196]\n",
      "Cross-Validation Precision Scores: [0.69735229 0.69941483 0.70802239 0.70736604 0.70447831]\n",
      "Cross-Validation Recall Scores: [0.57775572 0.57842069 0.57593141 0.58191291 0.57469604]\n",
      "Cross-Validation F1 Scores: [0.59669254 0.59749929 0.59447396 0.60225103 0.59268795]\n",
      "Mean Accuracy: 85.828\n",
      "Mean Precision: 70.333\n",
      "Mean Recall: 57.774\n",
      "Mean F1-Score: 59.672\n",
      "\n",
      "\n",
      "Evaluating Stacking Model: nb, dt, knn\n",
      "Cross-Validation Accuracy Scores: [0.85868221 0.85799525 0.85821115 0.85944768 0.85772047]\n",
      "Cross-Validation Precision Scores: [0.69826345 0.699787   0.70719474 0.71107525 0.70443474]\n",
      "Cross-Validation Recall Scores: [0.5775167  0.57596943 0.57397097 0.57796533 0.57915505]\n",
      "Cross-Validation F1 Scores: [0.59643183 0.59436006 0.59183726 0.59734373 0.59850307]\n",
      "Mean Accuracy: 85.841\n",
      "Mean Precision: 70.415\n",
      "Mean Recall: 57.692\n",
      "Mean F1-Score: 59.570\n",
      "\n",
      "\n",
      "Evaluating Stacking Model: nb, dt, rf\n",
      "Cross-Validation Accuracy Scores: [0.85870184 0.8581719  0.85846631 0.85976172 0.8578186 ]\n",
      "Cross-Validation Precision Scores: [0.69844241 0.70060743 0.7076066  0.71287891 0.70519903]\n",
      "Cross-Validation Recall Scores: [0.57142714 0.5795187  0.58088744 0.57820516 0.57703389]\n",
      "Cross-Validation F1 Scores: [0.58847132 0.59895572 0.60089192 0.59773232 0.59579084]\n",
      "Mean Accuracy: 85.858\n",
      "Mean Precision: 70.495\n",
      "Mean Recall: 57.741\n",
      "Mean F1-Score: 59.637\n",
      "\n",
      "\n",
      "Evaluating Stacking Model: nb, dt, svm\n",
      "Cross-Validation Accuracy Scores: [0.85893737 0.85856445 0.85836817 0.85948694 0.85764196]\n",
      "Cross-Validation Precision Scores: [0.6998274  0.70288717 0.70751387 0.71084183 0.7042046 ]\n",
      "Cross-Validation Recall Scores: [0.57082336 0.57618907 0.5776981  0.58034747 0.57715395]\n",
      "Cross-Validation F1 Scores: [0.58770513 0.59477665 0.59677341 0.60042606 0.59590577]\n",
      "Mean Accuracy: 85.860\n",
      "Mean Precision: 70.505\n",
      "Mean Recall: 57.644\n",
      "Mean F1-Score: 59.512\n",
      "\n",
      "\n",
      "Evaluating Stacking Model: nb, knn, rf\n",
      "Cross-Validation Accuracy Scores: [0.85878035 0.8581719  0.85819152 0.85921215 0.85777935]\n",
      "Cross-Validation Precision Scores: [0.69878466 0.70072064 0.70706094 0.70915785 0.70515104]\n",
      "Cross-Validation Recall Scores: [0.57637659 0.5764681  0.57407134 0.58125401 0.57561438]\n",
      "Cross-Validation F1 Scores: [0.59499091 0.59504768 0.59196699 0.601506   0.59392686]\n",
      "Mean Accuracy: 85.843\n",
      "Mean Precision: 70.418\n",
      "Mean Recall: 57.676\n",
      "Mean F1-Score: 59.549\n",
      "\n",
      "\n",
      "Evaluating Stacking Model: nb, knn, svm\n",
      "Cross-Validation Accuracy Scores: [0.85887849 0.85825041 0.85850556 0.85866258 0.85758307]\n",
      "Cross-Validation Precision Scores: [0.69929051 0.70125185 0.70909129 0.70608888 0.70405079]\n",
      "Cross-Validation Recall Scores: [0.57751722 0.57459324 0.57336028 0.58216836 0.5754995 ]\n",
      "Cross-Validation F1 Scores: [0.59648174 0.59261952 0.59107876 0.60250543 0.59373346]\n",
      "Mean Accuracy: 85.838\n",
      "Mean Precision: 70.395\n",
      "Mean Recall: 57.663\n",
      "Mean F1-Score: 59.528\n",
      "\n",
      "\n",
      "Evaluating Stacking Model: nb, rf, svm\n",
      "Cross-Validation Accuracy Scores: [0.85864296 0.85797562 0.85832892 0.85852519 0.85758307]\n",
      "Cross-Validation Precision Scores: [0.69805699 0.69971845 0.70779842 0.70516277 0.70410032]\n",
      "Cross-Validation Recall Scores: [0.57578323 0.5748846  0.57454323 0.58467187 0.57505261]\n",
      "Cross-Validation F1 Scores: [0.59419124 0.59294187 0.59262247 0.60557548 0.59314589]\n",
      "Mean Accuracy: 85.821\n",
      "Mean Precision: 70.297\n",
      "Mean Recall: 57.699\n",
      "Mean F1-Score: 59.570\n",
      "\n",
      "\n",
      "Evaluating Stacking Model: dt, knn, rf\n",
      "Cross-Validation Accuracy Scores: [0.85889811 0.85830929 0.85856445 0.85915327 0.85783823]\n",
      "Cross-Validation Precision Scores: [0.69937272 0.7013034  0.70878683 0.70848596 0.70501702]\n",
      "Cross-Validation Recall Scores: [0.57958136 0.57993794 0.57680628 0.58380343 0.57967087]\n",
      "Cross-Validation F1 Scores: [0.59911192 0.59952291 0.59565698 0.60469099 0.59919209]\n",
      "Mean Accuracy: 85.855\n",
      "Mean Precision: 70.459\n",
      "Mean Recall: 57.996\n",
      "Mean F1-Score: 59.963\n",
      "\n",
      "\n",
      "Evaluating Stacking Model: dt, knn, svm\n",
      "Cross-Validation Accuracy Scores: [0.85868221 0.85832892 0.85815227 0.85850556 0.8576027 ]\n",
      "Cross-Validation Precision Scores: [0.69826345 0.70144957 0.70627723 0.70527483 0.70368661]\n",
      "Cross-Validation Recall Scores: [0.5775167  0.57887606 0.57785139 0.58207653 0.58059439]\n",
      "Cross-Validation F1 Scores: [0.59643183 0.59818003 0.5969205  0.60234574 0.60030374]\n",
      "Mean Accuracy: 85.825\n",
      "Mean Precision: 70.299\n",
      "Mean Recall: 57.938\n",
      "Mean F1-Score: 59.884\n",
      "\n",
      "\n",
      "Evaluating Stacking Model: dt, rf, svm\n",
      "Cross-Validation Accuracy Scores: [0.85870184 0.85830929 0.85848594 0.85964396 0.85785786]\n",
      "Cross-Validation Precision Scores: [0.69844241 0.70138007 0.70776492 0.71135799 0.70536876]\n",
      "Cross-Validation Recall Scores: [0.57142714 0.57813018 0.58050744 0.58234911 0.5774479 ]\n",
      "Cross-Validation F1 Scores: [0.58847132 0.59722201 0.60041416 0.60301195 0.59633761]\n",
      "Mean Accuracy: 85.860\n",
      "Mean Precision: 70.486\n",
      "Mean Recall: 57.797\n",
      "Mean F1-Score: 59.709\n",
      "\n",
      "\n",
      "Evaluating Stacking Model: knn, rf, svm\n",
      "Cross-Validation Accuracy Scores: [0.85850556 0.8581719  0.8586037  0.85921215 0.85768121]\n",
      "Cross-Validation Precision Scores: [0.69735319 0.70072064 0.709338   0.70915785 0.70443099]\n",
      "Cross-Validation Recall Scores: [0.57781274 0.5764681  0.57509552 0.58125401 0.5770652 ]\n",
      "Cross-Validation F1 Scores: [0.59676524 0.59504768 0.59341261 0.601506   0.59579969]\n",
      "Mean Accuracy: 85.843\n",
      "Mean Precision: 70.420\n",
      "Mean Recall: 57.754\n",
      "Mean F1-Score: 59.651\n",
      "\n",
      "\n",
      "Evaluating Stacking Model: nb, dt, knn, rf\n",
      "Cross-Validation Accuracy Scores: [0.85905513 0.85825041 0.85864296 0.85954582 0.85787749]\n",
      "Cross-Validation Precision Scores: [0.70032814 0.70102233 0.70843411 0.71124391 0.70536557]\n",
      "Cross-Validation Recall Scores: [0.57448429 0.57928212 0.58182971 0.57998871 0.57840903]\n",
      "Cross-Validation F1 Scores: [0.59259227 0.59867624 0.60213285 0.59998214 0.59758445]\n",
      "Mean Accuracy: 85.867\n",
      "Mean Precision: 70.528\n",
      "Mean Recall: 57.880\n",
      "Mean F1-Score: 59.819\n",
      "\n",
      "\n",
      "Evaluating Stacking Model: nb, dt, knn, svm\n",
      "Cross-Validation Accuracy Scores: [0.85868221 0.85799525 0.85821115 0.85944768 0.85772047]\n",
      "Cross-Validation Precision Scores: [0.69826345 0.699787   0.70719474 0.71107525 0.70443474]\n",
      "Cross-Validation Recall Scores: [0.5775167  0.57596943 0.57397097 0.57796533 0.57915505]\n",
      "Cross-Validation F1 Scores: [0.59643183 0.59436006 0.59183726 0.59734373 0.59850307]\n",
      "Mean Accuracy: 85.841\n",
      "Mean Precision: 70.415\n",
      "Mean Recall: 57.692\n",
      "Mean F1-Score: 59.570\n",
      "\n",
      "\n",
      "Evaluating Stacking Model: nb, dt, rf, svm\n",
      "Cross-Validation Accuracy Scores: [0.85870184 0.85830929 0.85848594 0.85976172 0.85777935]\n",
      "Cross-Validation Precision Scores: [0.69844241 0.70138007 0.70771916 0.71271336 0.70493805]\n",
      "Cross-Validation Recall Scores: [0.57142714 0.57813018 0.580843   0.57893539 0.57740195]\n",
      "Cross-Validation F1 Scores: [0.58847132 0.59722201 0.60084077 0.59868028 0.59625956]\n",
      "Mean Accuracy: 85.861\n",
      "Mean Precision: 70.504\n",
      "Mean Recall: 57.735\n",
      "Mean F1-Score: 59.629\n",
      "\n",
      "\n",
      "Evaluating Stacking Model: nb, knn, rf, svm\n",
      "Cross-Validation Accuracy Scores: [0.85878035 0.8581719  0.85832892 0.85927104 0.85768121]\n",
      "Cross-Validation Precision Scores: [0.69878466 0.70072064 0.70787774 0.70962049 0.70443099]\n",
      "Cross-Validation Recall Scores: [0.57637659 0.5764681  0.57409581 0.58038971 0.5770652 ]\n",
      "Cross-Validation F1 Scores: [0.59499091 0.59504768 0.59202729 0.60042253 0.59579969]\n",
      "Mean Accuracy: 85.845\n",
      "Mean Precision: 70.429\n",
      "Mean Recall: 57.688\n",
      "Mean F1-Score: 59.566\n",
      "\n",
      "\n",
      "Evaluating Stacking Model: dt, knn, rf, svm\n",
      "Cross-Validation Accuracy Scores: [0.85889811 0.85834854 0.85850556 0.85915327 0.85787749]\n",
      "Cross-Validation Precision Scores: [0.69937272 0.70146691 0.70800661 0.70848596 0.70536557]\n",
      "Cross-Validation Recall Scores: [0.57958136 0.58097775 0.57956817 0.58380343 0.57840903]\n",
      "Cross-Validation F1 Scores: [0.59911192 0.60084377 0.59921952 0.60469099 0.59758445]\n",
      "Mean Accuracy: 85.856\n",
      "Mean Precision: 70.454\n",
      "Mean Recall: 58.047\n",
      "Mean F1-Score: 60.029\n",
      "\n",
      "\n",
      "Evaluating Stacking Model: nb, dt, knn, rf, svm\n",
      "Cross-Validation Accuracy Scores: [0.85905513 0.85842705 0.85848594 0.85954582 0.85787749]\n",
      "Cross-Validation Precision Scores: [0.70032814 0.70208484 0.70892797 0.71124391 0.70536557]\n",
      "Cross-Validation Recall Scores: [0.57448429 0.57684318 0.5735725  0.57998871 0.57840903]\n",
      "Cross-Validation F1 Scores: [0.59259227 0.59559352 0.59135941 0.59998214 0.59758445]\n",
      "Mean Accuracy: 85.868\n",
      "Mean Precision: 70.559\n",
      "Mean Recall: 57.666\n",
      "Mean F1-Score: 59.542\n",
      "\n",
      "\n"
     ]
    }
   ],
   "source": [
    "kfold = KFold(n_splits=5, shuffle=True, random_state=42)\n",
    "\n",
    "scoring = [\n",
    "    'accuracy', \n",
    "    'precision_macro', \n",
    "    'recall_macro', \n",
    "    'f1_macro'\n",
    "]\n",
    "\n",
    "# Loop through each combination of base models and evaluate stacking\n",
    "for combo in base_model_combinations:\n",
    "    # Print the current combination of base models\n",
    "    combo_names = [model[0] for model in combo]\n",
    "    print(f\"Evaluating Stacking Model: {', '.join(combo_names)}\")\n",
    "    \n",
    "    # Convert combination to list of tuples in the correct format, a list\n",
    "    base_model_list = list(combo)  \n",
    "    \n",
    "    # Create the stacking classifier with the current combination of base models\n",
    "    stacking_clf = StackingClassifier(estimators=base_model_list, final_estimator=meta_model)\n",
    "    \n",
    "    # Run cross-validation\n",
    "    cv_results = cross_validate(stacking_clf, x_base_featured_scaled, y_base, cv=kfold, scoring=scoring, n_jobs=-1)\n",
    "    \n",
    "    # Print the results for the current combination\n",
    "    print(f\"Cross-Validation Accuracy Scores: {cv_results['test_accuracy']}\")\n",
    "    print(f\"Cross-Validation Precision Scores: {cv_results['test_precision_macro']}\")\n",
    "    print(f\"Cross-Validation Recall Scores: {cv_results['test_recall_macro']}\")\n",
    "    print(f\"Cross-Validation F1 Scores: {cv_results['test_f1_macro']}\")\n",
    "    \n",
    "    # Calculate and print mean scores for each metric\n",
    "    print(f\"Mean Accuracy: {cv_results['test_accuracy'].mean()*100:.3f}\")\n",
    "    print(f\"Mean Precision: {cv_results['test_precision_macro'].mean()*100:.3f}\")\n",
    "    print(f\"Mean Recall: {cv_results['test_recall_macro'].mean()*100:.3f}\")\n",
    "    print(f\"Mean F1-Score: {cv_results['test_f1_macro'].mean()*100:.3f}\")\n",
    "    print(\"\\n\")"
   ]
  },
  {
   "cell_type": "markdown",
   "metadata": {},
   "source": [
    "## Generating confusion matrix for DT + SVM since its the best stacking combination"
   ]
  },
  {
   "cell_type": "code",
   "execution_count": 47,
   "metadata": {},
   "outputs": [
    {
     "name": "stdout",
     "output_type": "stream",
     "text": [
      "Confusion Matrix:\n",
      "[[212248   5606]\n",
      " [ 30389   6502]]\n"
     ]
    },
    {
     "data": {
      "image/png": "[encoded data removed]",
      "text/plain": [
       "<Figure size 800x600 with 2 Axes>"
      ]
     },
     "metadata": {},
     "output_type": "display_data"
    }
   ],
   "source": [
    "base_learners = [\n",
    "    ('svm', SVC(kernel='linear', C=1, random_state=42)),\n",
    "    ('dt', DecisionTreeClassifier(max_depth=5, random_state=42))\n",
    "]\n",
    "\n",
    "meta_model = LogisticRegression(random_state=42)\n",
    "\n",
    "stacking_clf = StackingClassifier(estimators=base_learners, final_estimator=meta_model, cv=5, n_jobs=-1)\n",
    "\n",
    "kfold = KFold(n_splits=5, shuffle=True, random_state=42)\n",
    "\n",
    "stacking_pred_cv = cross_val_predict(stacking_clf, x_base_featured_scaled, y_base, cv=kfold)\n",
    "\n",
    "\n",
    "cm = confusion_matrix(y_base, stacking_pred_cv)\n",
    "\n",
    "print(\"Confusion Matrix:\")\n",
    "print(cm)\n",
    "\n",
    "plt.figure(figsize=(8, 6))\n",
    "sns.heatmap(cm, annot=True, fmt='d', cmap='Reds', xticklabels=np.unique(y_base), yticklabels=np.unique(y_base))\n",
    "plt.title(\"Confusion Matrix: SVM + DT Stacking with LR Meta-Model\")\n",
    "plt.xlabel(\"Predicted Labels\")\n",
    "plt.ylabel(\"True Labels\")\n",
    "plt.show()"
   ]
  }
 ],
 "metadata": {
  "kernelspec": {
   "display_name": "fyp-env",
   "language": "python",
   "name": "python3"
  },
  "language_info": {
   "codemirror_mode": {
    "name": "ipython",
    "version": 3
   },
   "file_extension": ".py",
   "mimetype": "text/x-python",
   "name": "python",
   "nbconvert_exporter": "python",
   "pygments_lexer": "ipython3",
   "version": "3.12.3"
  }
 },
 "nbformat": 4,
 "nbformat_minor": 2
}
